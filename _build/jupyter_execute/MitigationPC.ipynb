{
 "cells": [
  {
   "cell_type": "markdown",
   "metadata": {},
   "source": [
    "# Mitigation Model Presentation\n",
    "\n",
    "# 1: State variables and law of motion\n",
    "\n",
    "## 1.1: Total capital:\n",
    "$$\n",
    "d \\log K = (\\mu_k + i - \\frac{\\kappa}{2} i^2 - \\frac{\\sigma_k^2}{2}) dt + \\sigma_k dW\n",
    "$$\n",
    "\n",
    "## 1.2: Temperature anomaly:\n",
    "$$\n",
    "d Y = e(\\theta_\\ell dt + \\varsigma dW)\n",
    "$$\n",
    "\n",
    "## 1.3: Technology Jump Intensity: \n",
    "$$\n",
    "d\\log \\mathcal{I}_g = - \\zeta dt + \\Psi_0 (\\frac{X}{\\mathcal{I}})^{\\Psi_1} dt - \\frac{\\sigma_g^2}{2} dt + \\sigma_g dW \n",
    "$$\n",
    "\n"
   ]
  },
  {
   "cell_type": "markdown",
   "metadata": {},
   "source": [
    "# Damage jump and technology jump"
   ]
  },
  {
   "cell_type": "code",
   "execution_count": 1,
   "metadata": {},
   "outputs": [
    {
     "ename": "FileNotFoundError",
     "evalue": "[Errno 2] No such file or directory: './JumpStates.png'",
     "output_type": "error",
     "traceback": [
      "\u001b[1;31m---------------------------------------------------------------------------\u001b[0m",
      "\u001b[1;31mFileNotFoundError\u001b[0m                         Traceback (most recent call last)",
      "Input \u001b[1;32mIn [1]\u001b[0m, in \u001b[0;36m<cell line: 2>\u001b[1;34m()\u001b[0m\n\u001b[0;32m      1\u001b[0m \u001b[38;5;28;01mfrom\u001b[39;00m \u001b[38;5;21;01mIPython\u001b[39;00m\u001b[38;5;21;01m.\u001b[39;00m\u001b[38;5;21;01mdisplay\u001b[39;00m \u001b[38;5;28;01mimport\u001b[39;00m Image\n\u001b[1;32m----> 2\u001b[0m \u001b[43mImage\u001b[49m\u001b[43m(\u001b[49m\u001b[43mfilename\u001b[49m\u001b[38;5;241;43m=\u001b[39;49m\u001b[38;5;124;43m'\u001b[39;49m\u001b[38;5;124;43m./JumpStates.png\u001b[39;49m\u001b[38;5;124;43m'\u001b[39;49m\u001b[43m)\u001b[49m\n",
      "File \u001b[1;32m~\\.julia\\conda\\3\\lib\\site-packages\\IPython\\core\\display.py:957\u001b[0m, in \u001b[0;36mImage.__init__\u001b[1;34m(self, data, url, filename, format, embed, width, height, retina, unconfined, metadata, alt)\u001b[0m\n\u001b[0;32m    955\u001b[0m \u001b[38;5;28mself\u001b[39m\u001b[38;5;241m.\u001b[39munconfined \u001b[38;5;241m=\u001b[39m unconfined\n\u001b[0;32m    956\u001b[0m \u001b[38;5;28mself\u001b[39m\u001b[38;5;241m.\u001b[39malt \u001b[38;5;241m=\u001b[39m alt\n\u001b[1;32m--> 957\u001b[0m \u001b[38;5;28;43msuper\u001b[39;49m\u001b[43m(\u001b[49m\u001b[43mImage\u001b[49m\u001b[43m,\u001b[49m\u001b[43m \u001b[49m\u001b[38;5;28;43mself\u001b[39;49m\u001b[43m)\u001b[49m\u001b[38;5;241;43m.\u001b[39;49m\u001b[38;5;21;43m__init__\u001b[39;49m\u001b[43m(\u001b[49m\u001b[43mdata\u001b[49m\u001b[38;5;241;43m=\u001b[39;49m\u001b[43mdata\u001b[49m\u001b[43m,\u001b[49m\u001b[43m \u001b[49m\u001b[43murl\u001b[49m\u001b[38;5;241;43m=\u001b[39;49m\u001b[43murl\u001b[49m\u001b[43m,\u001b[49m\u001b[43m \u001b[49m\u001b[43mfilename\u001b[49m\u001b[38;5;241;43m=\u001b[39;49m\u001b[43mfilename\u001b[49m\u001b[43m,\u001b[49m\n\u001b[0;32m    958\u001b[0m \u001b[43m        \u001b[49m\u001b[43mmetadata\u001b[49m\u001b[38;5;241;43m=\u001b[39;49m\u001b[43mmetadata\u001b[49m\u001b[43m)\u001b[49m\n\u001b[0;32m    960\u001b[0m \u001b[38;5;28;01mif\u001b[39;00m \u001b[38;5;28mself\u001b[39m\u001b[38;5;241m.\u001b[39mwidth \u001b[38;5;129;01mis\u001b[39;00m \u001b[38;5;28;01mNone\u001b[39;00m \u001b[38;5;129;01mand\u001b[39;00m \u001b[38;5;28mself\u001b[39m\u001b[38;5;241m.\u001b[39mmetadata\u001b[38;5;241m.\u001b[39mget(\u001b[38;5;124m'\u001b[39m\u001b[38;5;124mwidth\u001b[39m\u001b[38;5;124m'\u001b[39m, {}):\n\u001b[0;32m    961\u001b[0m     \u001b[38;5;28mself\u001b[39m\u001b[38;5;241m.\u001b[39mwidth \u001b[38;5;241m=\u001b[39m metadata[\u001b[38;5;124m'\u001b[39m\u001b[38;5;124mwidth\u001b[39m\u001b[38;5;124m'\u001b[39m]\n",
      "File \u001b[1;32m~\\.julia\\conda\\3\\lib\\site-packages\\IPython\\core\\display.py:327\u001b[0m, in \u001b[0;36mDisplayObject.__init__\u001b[1;34m(self, data, url, filename, metadata)\u001b[0m\n\u001b[0;32m    324\u001b[0m \u001b[38;5;28;01melif\u001b[39;00m \u001b[38;5;28mself\u001b[39m\u001b[38;5;241m.\u001b[39mmetadata \u001b[38;5;129;01mis\u001b[39;00m \u001b[38;5;28;01mNone\u001b[39;00m:\n\u001b[0;32m    325\u001b[0m     \u001b[38;5;28mself\u001b[39m\u001b[38;5;241m.\u001b[39mmetadata \u001b[38;5;241m=\u001b[39m {}\n\u001b[1;32m--> 327\u001b[0m \u001b[38;5;28;43mself\u001b[39;49m\u001b[38;5;241;43m.\u001b[39;49m\u001b[43mreload\u001b[49m\u001b[43m(\u001b[49m\u001b[43m)\u001b[49m\n\u001b[0;32m    328\u001b[0m \u001b[38;5;28mself\u001b[39m\u001b[38;5;241m.\u001b[39m_check_data()\n",
      "File \u001b[1;32m~\\.julia\\conda\\3\\lib\\site-packages\\IPython\\core\\display.py:992\u001b[0m, in \u001b[0;36mImage.reload\u001b[1;34m(self)\u001b[0m\n\u001b[0;32m    990\u001b[0m \u001b[38;5;124;03m\"\"\"Reload the raw data from file or URL.\"\"\"\u001b[39;00m\n\u001b[0;32m    991\u001b[0m \u001b[38;5;28;01mif\u001b[39;00m \u001b[38;5;28mself\u001b[39m\u001b[38;5;241m.\u001b[39membed:\n\u001b[1;32m--> 992\u001b[0m     \u001b[38;5;28;43msuper\u001b[39;49m\u001b[43m(\u001b[49m\u001b[43mImage\u001b[49m\u001b[43m,\u001b[49m\u001b[38;5;28;43mself\u001b[39;49m\u001b[43m)\u001b[49m\u001b[38;5;241;43m.\u001b[39;49m\u001b[43mreload\u001b[49m\u001b[43m(\u001b[49m\u001b[43m)\u001b[49m\n\u001b[0;32m    993\u001b[0m     \u001b[38;5;28;01mif\u001b[39;00m \u001b[38;5;28mself\u001b[39m\u001b[38;5;241m.\u001b[39mretina:\n\u001b[0;32m    994\u001b[0m         \u001b[38;5;28mself\u001b[39m\u001b[38;5;241m.\u001b[39m_retina_shape()\n",
      "File \u001b[1;32m~\\.julia\\conda\\3\\lib\\site-packages\\IPython\\core\\display.py:353\u001b[0m, in \u001b[0;36mDisplayObject.reload\u001b[1;34m(self)\u001b[0m\n\u001b[0;32m    351\u001b[0m \u001b[38;5;28;01mif\u001b[39;00m \u001b[38;5;28mself\u001b[39m\u001b[38;5;241m.\u001b[39mfilename \u001b[38;5;129;01mis\u001b[39;00m \u001b[38;5;129;01mnot\u001b[39;00m \u001b[38;5;28;01mNone\u001b[39;00m:\n\u001b[0;32m    352\u001b[0m     encoding \u001b[38;5;241m=\u001b[39m \u001b[38;5;28;01mNone\u001b[39;00m \u001b[38;5;28;01mif\u001b[39;00m \u001b[38;5;124m\"\u001b[39m\u001b[38;5;124mb\u001b[39m\u001b[38;5;124m\"\u001b[39m \u001b[38;5;129;01min\u001b[39;00m \u001b[38;5;28mself\u001b[39m\u001b[38;5;241m.\u001b[39m_read_flags \u001b[38;5;28;01melse\u001b[39;00m \u001b[38;5;124m\"\u001b[39m\u001b[38;5;124mutf-8\u001b[39m\u001b[38;5;124m\"\u001b[39m\n\u001b[1;32m--> 353\u001b[0m     \u001b[38;5;28;01mwith\u001b[39;00m \u001b[38;5;28;43mopen\u001b[39;49m\u001b[43m(\u001b[49m\u001b[38;5;28;43mself\u001b[39;49m\u001b[38;5;241;43m.\u001b[39;49m\u001b[43mfilename\u001b[49m\u001b[43m,\u001b[49m\u001b[43m \u001b[49m\u001b[38;5;28;43mself\u001b[39;49m\u001b[38;5;241;43m.\u001b[39;49m\u001b[43m_read_flags\u001b[49m\u001b[43m,\u001b[49m\u001b[43m \u001b[49m\u001b[43mencoding\u001b[49m\u001b[38;5;241;43m=\u001b[39;49m\u001b[43mencoding\u001b[49m\u001b[43m)\u001b[49m \u001b[38;5;28;01mas\u001b[39;00m f:\n\u001b[0;32m    354\u001b[0m         \u001b[38;5;28mself\u001b[39m\u001b[38;5;241m.\u001b[39mdata \u001b[38;5;241m=\u001b[39m f\u001b[38;5;241m.\u001b[39mread()\n\u001b[0;32m    355\u001b[0m \u001b[38;5;28;01melif\u001b[39;00m \u001b[38;5;28mself\u001b[39m\u001b[38;5;241m.\u001b[39murl \u001b[38;5;129;01mis\u001b[39;00m \u001b[38;5;129;01mnot\u001b[39;00m \u001b[38;5;28;01mNone\u001b[39;00m:\n\u001b[0;32m    356\u001b[0m     \u001b[38;5;66;03m# Deferred import\u001b[39;00m\n",
      "\u001b[1;31mFileNotFoundError\u001b[0m: [Errno 2] No such file or directory: './JumpStates.png'"
     ]
    }
   ],
   "source": [
    "from IPython.display import Image\n",
    "Image(filename='./JumpStates.png')\n"
   ]
  },
  {
   "cell_type": "markdown",
   "metadata": {},
   "source": [
    "## 2.1 Post-Damage Jump, Post-Technology Jump $V^{(m, I I)}$\n",
    "\n",
    "\\begin{aligned}\n",
    "V^{(m, I I)}(\\log K, Y, \\log N)&=\\phi^{(m, I I)}(\\log K, Y)-\\log N\n",
    "\\end{aligned}\n",
    "\n",
    "\\begin{aligned}\n",
    "0=\\max _{i_k} &-\\phi^{(m, I I)}+\\delta \\log \\left(\\alpha-i_k\\right)+\\delta \\log K \\\\\n",
    "&+\\frac{\\partial \\phi^{(m, I I)}}{\\partial \\log K}\\left[\\mu_k+i_k-\\frac{\\kappa}{2} i_k^2-\\frac{\\left|\\sigma_k\\right|^2}{2}\\right]+\\frac{\\partial^2 \\phi^{(m, I I)}}{\\partial \\log K^2} \\frac{\\left|\\sigma_k\\right|^2}{2}\n",
    "\\end{aligned}\n",
    "\n",
    "## 2.2 Post-Damage Jump, Pre-Technology Jump $V^{m}$\n",
    "\n",
    "$$\n",
    "V^{(m)}\\left(\\log K, Y, \\mathcal{I}_g, \\log N\\right)=\\phi^{(m)}\\left(\\log K, Y, \\mathcal{I}_g\\right)-\\log N\n",
    "$$\n",
    "\n",
    "\\begin{aligned}\n",
    "0=\\max _{e, i_k, i_g} \\min _{\\omega_{\\ell}: \\sum_{\\ell=1}^L \\omega_{\\ell}=1, g} &-\\delta \\phi^{(m)}+\\delta \\log \\left(\\alpha-i_k-i_g \\exp \\left(-\\log K+\\log \\mathcal{I}_g\\right)-\\alpha \\bar{\\vartheta}\\left[1-\\left(\\frac{e}{\\alpha \\bar{\\lambda} K}\\right)\\right]^\\theta\\right)+\\delta \\log K \\\\\n",
    "&+\\frac{\\partial \\phi^{(m)}}{\\partial \\log K}\\left[\\mu_k+i_k-\\frac{\\kappa}{2} i_k^2-\\frac{\\left|\\sigma_k\\right|^2}{2}\\right]+\\frac{\\partial^2 \\phi^{(m)}}{\\partial \\log K^2} \\frac{\\left|\\sigma_k\\right|^2}{2} \\\\\n",
    "&+\\frac{\\partial \\phi^{(m)}}{\\partial Y} \\sum_{\\ell=1}^L \\omega_{\\ell} \\theta_{\\ell} e+\\frac{\\partial^2 \\phi^{(m)}}{\\partial Y^2} \\frac{|\\varsigma|^2}{2} e^2 \\\\\n",
    "&-\\left(\\left[\\gamma_1+\\gamma_2 y+\\gamma_3^m\\right] \\sum_{\\ell=1}^L \\omega_{\\ell} \\theta_{\\ell} e+\\left[\\gamma_2+\\gamma_3^m\\right] \\frac{|\\zeta|^2}{2} e^2\\right) \\\\\n",
    "&+\\xi_a \\sum_{\\ell=1}^L \\omega_{\\ell}\\left(\\log \\omega_{\\ell}-\\log \\pi_{\\ell}\\right) \\\\\n",
    "&+\\xi_g \\mathcal{I}_g(1-g+g \\log g)+\\mathcal{I}_g g\\left(\\Phi^{(I I)}-\\Phi\\right)\n",
    "\\end{aligned}\n",
    "\n",
    "\n",
    "## 2.3 Pre-Damage Jump, Post-Technology Jump $V^{I I}$\n",
    "\n",
    "\n",
    "\\begin{aligned}\n",
    "V^{(I I)}(\\log K, Y, \\log N)=\\Phi^{(I I)}(\\log K, Y)-\\log N\n",
    "\\end{aligned}\n",
    "\n",
    "\\begin{aligned}\n",
    "0=\\max _{i_k} &-\\Phi^{(I I)}+\\delta \\log \\left(\\alpha-i_k\\right)+\\delta \\log K \\\\\n",
    "&+\\frac{\\partial \\Phi^{(I I)}}{\\partial \\log K}\\left[\\mu_k+i_k-\\frac{\\kappa}{2} i_k^2-\\frac{\\left|\\sigma_k\\right|^2}{2}\\right]+\\frac{\\partial^2 \\Phi^{(I I)}}{\\partial \\log K^2} \\frac{\\left|\\sigma_k\\right|^2}{2}\n",
    "\\end{aligned}\n",
    "\n",
    "\n",
    "\n",
    "## 2.4 Pre-Damage Jump, Pre-Technology Jump $V$\n",
    "\n",
    "\n",
    "\n",
    "\\begin{aligned}\n",
    "V\\left(\\log K, Y, \\mathcal{I}_g, \\log N\\right)=\\Phi\\left(\\log K, Y, \\mathcal{I}_g\\right)-\\log N\n",
    "\\end{aligned}\n",
    "\n",
    "\n",
    "\\begin{aligned}\n",
    "0=\\max _{e, i_k, i_g \\omega_{\\ell}: \\sum_{\\ell=1}^L \\omega_{\\ell}=1, g, f_m} &-\\delta \\Phi+\\delta \\log \\left(\\alpha-i_k-i_g \\exp \\left(-\\log K+\\log \\mathcal{I}_g\\right)-\\alpha \\bar{\\vartheta}\\left[1-\\left(\\frac{e}{\\alpha \\bar{\\lambda} K}\\right)\\right]^\\theta\\right)+\\delta \\log K \\\\\n",
    "&+\\frac{\\partial \\Phi}{\\partial \\log K}\\left[\\mu_k+i_k-\\frac{\\kappa}{2} i_k^2-\\frac{\\left|\\sigma_k\\right|^2}{2}\\right]+\\frac{\\partial^2 \\Phi}{\\partial \\log K^2} \\frac{\\left|\\sigma_k\\right|^2}{2} \\\\\n",
    "&+\\frac{\\partial \\Phi}{\\partial Y} \\sum_{\\ell=1}^L \\omega_{\\ell} \\theta_{\\ell} e+\\frac{\\partial^2 \\Phi}{\\partial Y^2} \\frac{|\\zeta|^2}{2} e^2 \\\\\n",
    "&-\\left(\\left[\\gamma_1+\\gamma_2 Y\\right] \\sum_{\\ell=1}^L \\omega_{\\ell} \\theta_{\\ell} e+\\gamma_2 \\frac{|\\zeta|^2}{2} e^2\\right) \\\\\n",
    "&+\\frac{\\partial \\Phi}{\\partial \\mathcal{I}}\\left(-\\zeta+\\psi_0\\left(i_g\\right)^{\\psi_1}-\\frac{\\left|\\sigma_{\\mathcal{I}}\\right|^2}{2}\\right)+\\frac{1}{2}+\\frac{\\partial^2 \\Phi}{\\partial \\mathcal{I}^2}\\left|\\sigma_{\\mathcal{I}}\\right|^2 \\\\\n",
    "&+\\xi_a \\sum_{\\ell=1}^L \\omega_{\\ell}\\left(\\log \\omega_{\\ell}-\\log \\pi_{\\ell}\\right) \\\\\n",
    "&+\\xi_g \\mathcal{I}_g(1-g+g \\log g)+\\mathcal{I}_g g\\left(\\Phi^{(I I)}-\\Phi\\right) \\\\\n",
    "&+\\xi_d \\mathcal{I}_d\\left(1-f_m+f_m \\log f_m\\right)+\\mathcal{I}_d \\sum_{m=1}^M \\pi_d^m f_m\\left(\\phi^{(m)}-\\Phi\\right) .\n",
    "\\end{aligned}\n",
    "\n"
   ]
  },
  {
   "cell_type": "markdown",
   "metadata": {},
   "source": [
    "# 3: Special Treatment\n",
    "\n",
    "## 3.1: R&D investment ratio\n",
    "$$\n",
    "x = i_g/K\n",
    "$$\n",
    "\n"
   ]
  },
  {
   "cell_type": "markdown",
   "metadata": {},
   "source": [
    "# 4: Execution Time Table\n",
    "\n",
    "## 4.1: Post-Damage Part\n",
    "\n",
    "\n",
    "| Grid Step Size | Learning Rate| $\\psi_0$ | $\\psi_1$ | Time |\n",
    "|----          |---    |---    |---|---|\n",
    "|0.2, 0.2, 0.2 | 0.1   |0.005   |0.5    |0 days 00 hr 03 min 26 sec|\n",
    "|0.2, 0.2, 0.2 | 0.1   |0.008   |0.5    |0 days 00 hr 03 min 54 sec|\n",
    "|0.2, 0.2, 0.2 | 0.1   |0.010   |0.5    |0 days 00 hr 03 min 37 sec|\n",
    "|0.2, 0.2, 0.2 | 0.1   |0.012   |0.5    |0 days 00 hr 03 min 33 sec|\n",
    "|0.2, 0.2, 0.2 | 0.008 |0.005   |0.8    |0 days 00 hr 39 min 58 sec|\n",
    "|0.2, 0.2, 0.2 | 0.008 |0.008   |0.8    |0 days 00 hr 30 min 51 sec|\n",
    "|0.2, 0.2, 0.2 | 0.008 |0.010   |0.8    |0 days 00 hr 37 min 07 sec|\n",
    "|0.2, 0.2, 0.2 | 0.008 |0.012   |0.8    |0 days 00 hr 35 min 17 sec|\n",
    "\n",
    "## 4.2: Pre-Damage Part \n"
   ]
  },
  {
   "cell_type": "markdown",
   "metadata": {},
   "source": [
    "# 5: Graphical Comparison\n",
    "\n",
    "## 5.1: Different $\\psi_0$ and $\\psi_1$"
   ]
  },
  {
   "cell_type": "code",
   "execution_count": 3,
   "metadata": {},
   "outputs": [
    {
     "data": {
      "application/vnd.jupyter.widget-view+json": {
       "model_id": "11e38e5cf7554a2b94d6e3dd57c0de34",
       "version_major": 2,
       "version_minor": 0
      },
      "text/plain": [
       "interactive(children=(Dropdown(description='psi0', options=(0.005, 0.008, 0.01, 0.012), value=0.005), Dropdown…"
      ]
     },
     "metadata": {},
     "output_type": "display_data"
    }
   ],
   "source": [
    "from PIL import Image\n",
    "import ipywidgets as widgets\n",
    "from ipywidgets import interact, interactive, fixed, interact_manual\n",
    "import numpy as np\n",
    "from IPython.display import display, HTML\n",
    "\n",
    "%matplotlib inline\n",
    "\n",
    "# def image(pulse=(0, 99), cearth=np.array((0.3725, 0.3916, 15.0)), baseline=[\"carbonvoid.csv\",  \"rcp00co2eqv3.csv\", \"rcp30co2eqv3.csv\", \"rcp45co2eqv3.csv\", \"rcp60co2eqv3.csv\"], year=np.array((1801, 2010)), option=[\"Trad\", \"IRF\", \"IRFstand\", \"IRFTera\"]):\n",
    "\n",
    "\n",
    "@interact\n",
    "def image(psi0=[0.005, 0.008, 0.010, 0.012], psi1=[0.5, 0.8], graphtype=['RD', 'Capital Investment', 'Emission', 'Temperature Anomaly', 'Technology jump intensity', 'Distorted probability of first technology jump', 'Distorted probability of damage changes', 'True probability of first technology jump', 'True probability of damage changes'], Gridsize = ['0.2_0.2_0.2','0.05_0.05_0.05']):\n",
    "    Figure_Dir = './figure/2jump_step_'+Gridsize+'/'\n",
    "\n",
    "    # if graphtype==\"whole\":\n",
    "        # filename = Figure_Dir+\"mercury\"+\",psi0={:.3f},psi1={:.3f}\" .format(\n",
    "        #         psi0, psi1)+',Years='+str(60)+'.pdf'\n",
    "    # userimage = open(filename,'rb')\n",
    "\n",
    "    if graphtype == 'RD':\n",
    "        filename = Figure_Dir+\"RD,\"+\"psi0={:.3f},psi1={:.3f}\" .format(\n",
    "            psi0, psi1)+'.png'\n",
    "    if graphtype == 'Capital Investment':\n",
    "        filename = Figure_Dir+\"CapI,\"+\"psi0={:.3f},psi1={:.3f}\" .format(\n",
    "            psi0, psi1)+'.png'\n",
    "    if graphtype == 'Emission':\n",
    "        filename = Figure_Dir+\"E,\"+\"psi0={:.3f},psi1={:.3f}\" .format(\n",
    "            psi0, psi1)+'.png'\n",
    "    if graphtype == 'Temperature Anomaly':\n",
    "        filename = Figure_Dir+\"TA,\"+\"psi0={:.3f},psi1={:.3f}\" .format(\n",
    "            psi0, psi1)+'.png'\n",
    "    if graphtype == 'Technology jump intensity':\n",
    "        filename = Figure_Dir+\"Ig,\"+\"psi0={:.3f},psi1={:.3f}\" .format(\n",
    "            psi0, psi1)+'.png'\n",
    "    if graphtype == 'Distorted probability of first technology jump':\n",
    "        filename = Figure_Dir+\"PIgd,\"+\"psi0={:.3f},psi1={:.3f}\" .format(\n",
    "            psi0, psi1)+'.png'\n",
    "    if graphtype == 'Distorted probability of damage changes':\n",
    "        filename = Figure_Dir+\"PIdd,\"+\"psi0={:.3f},psi1={:.3f}\" .format(\n",
    "            psi0, psi1)+'.png'\n",
    "    if graphtype == 'True probability of first technology jump':\n",
    "        filename = Figure_Dir+\"TPIg,\"+\"psi0={:.3f},psi1={:.3f}\" .format(\n",
    "            psi0, psi1)+'.png'\n",
    "    if graphtype == 'True probability of damage changes':\n",
    "        filename = Figure_Dir+\"TPId,\"+\"psi0={:.3f},psi1={:.3f}\" .format(\n",
    "            psi0, psi1)+'.png'\n",
    "\n",
    "\n",
    "    # fileReader = PyPDF2.PdfFileReader(userimage)\n",
    "    userimage = Image.open(filename)\n",
    "    # userimage_resize = userimage.resize((800, 1000))\n",
    "    # return userimage_resize\n",
    "    return userimage\n"
   ]
  }
 ],
 "metadata": {
  "kernelspec": {
   "display_name": "Python 3.9.7 ('base')",
   "language": "python",
   "name": "python3"
  },
  "language_info": {
   "codemirror_mode": {
    "name": "ipython",
    "version": 3
   },
   "file_extension": ".py",
   "mimetype": "text/x-python",
   "name": "python",
   "nbconvert_exporter": "python",
   "pygments_lexer": "ipython3",
   "version": "3.8.13"
  },
  "vscode": {
   "interpreter": {
    "hash": "ad2bdc8ecc057115af97d19610ffacc2b4e99fae6737bb82f5d7fb13d2f2c186"
   }
  }
 },
 "nbformat": 4,
 "nbformat_minor": 2
}